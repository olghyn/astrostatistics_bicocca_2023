{
 "cells": [
  {
   "cell_type": "markdown",
   "id": "7b9595e1",
   "metadata": {},
   "source": [
    "# The Tensorflow playground\n",
    "\n",
    "## Dataset 1\n",
    "\n",
    "Test loss = 0.137\n",
    "\n",
    "<img src=\"Neural_network.png\" align=\"center\" width=\"1000px\"/>"
   ]
  },
  {
   "cell_type": "markdown",
   "id": "72d1741a",
   "metadata": {},
   "source": [
    "## Dataset 2\n",
    "\n",
    "Test loss = 0.057\n",
    "\n",
    "<img src=\"Neural_network_spirals.png\" align=\"center\" width=\"1000px\"/>"
   ]
  }
 ],
 "metadata": {
  "kernelspec": {
   "display_name": "Python 3 (ipykernel)",
   "language": "python",
   "name": "python3"
  },
  "language_info": {
   "codemirror_mode": {
    "name": "ipython",
    "version": 3
   },
   "file_extension": ".py",
   "mimetype": "text/x-python",
   "name": "python",
   "nbconvert_exporter": "python",
   "pygments_lexer": "ipython3",
   "version": "3.9.12"
  }
 },
 "nbformat": 4,
 "nbformat_minor": 5
}
